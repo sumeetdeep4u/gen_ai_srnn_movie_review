{
 "cells": [
  {
   "cell_type": "code",
   "execution_count": 1,
   "metadata": {},
   "outputs": [],
   "source": [
    "# Step 1: Import Libraries and Load the Model\n",
    "import numpy as np\n",
    "import tensorflow as tf\n",
    "from tensorflow.keras.datasets import imdb\n",
    "from tensorflow.keras.preprocessing import sequence\n",
    "from tensorflow.keras.models import load_model"
   ]
  },
  {
   "cell_type": "code",
   "execution_count": 2,
   "metadata": {},
   "outputs": [],
   "source": [
    "\n",
    "# Load the IMDB dataset word index\n",
    "word_index = imdb.get_word_index()\n",
    "reverse_word_index = {value: key for key, value in word_index.items()}"
   ]
  },
  {
   "cell_type": "code",
   "execution_count": 3,
   "metadata": {},
   "outputs": [
    {
     "name": "stderr",
     "output_type": "stream",
     "text": [
      "WARNING:absl:Compiled the loaded model, but the compiled metrics have yet to be built. `model.compile_metrics` will be empty until you train or evaluate the model.\n"
     ]
    },
    {
     "data": {
      "text/html": [
       "<pre style=\"white-space:pre;overflow-x:auto;line-height:normal;font-family:Menlo,'DejaVu Sans Mono',consolas,'Courier New',monospace\"><span style=\"font-weight: bold\">Model: \"sequential\"</span>\n",
       "</pre>\n"
      ],
      "text/plain": [
       "\u001b[1mModel: \"sequential\"\u001b[0m\n"
      ]
     },
     "metadata": {},
     "output_type": "display_data"
    },
    {
     "data": {
      "text/html": [
       "<pre style=\"white-space:pre;overflow-x:auto;line-height:normal;font-family:Menlo,'DejaVu Sans Mono',consolas,'Courier New',monospace\">┏━━━━━━━━━━━━━━━━━━━━━━━━━━━━━━━━━┳━━━━━━━━━━━━━━━━━━━━━━━━┳━━━━━━━━━━━━━━━┓\n",
       "┃<span style=\"font-weight: bold\"> Layer (type)                    </span>┃<span style=\"font-weight: bold\"> Output Shape           </span>┃<span style=\"font-weight: bold\">       Param # </span>┃\n",
       "┡━━━━━━━━━━━━━━━━━━━━━━━━━━━━━━━━━╇━━━━━━━━━━━━━━━━━━━━━━━━╇━━━━━━━━━━━━━━━┩\n",
       "│ embedding (<span style=\"color: #0087ff; text-decoration-color: #0087ff\">Embedding</span>)           │ (<span style=\"color: #00af00; text-decoration-color: #00af00\">32</span>, <span style=\"color: #00af00; text-decoration-color: #00af00\">500</span>, <span style=\"color: #00af00; text-decoration-color: #00af00\">128</span>)         │     <span style=\"color: #00af00; text-decoration-color: #00af00\">1,280,000</span> │\n",
       "├─────────────────────────────────┼────────────────────────┼───────────────┤\n",
       "│ simple_rnn (<span style=\"color: #0087ff; text-decoration-color: #0087ff\">SimpleRNN</span>)          │ (<span style=\"color: #00af00; text-decoration-color: #00af00\">32</span>, <span style=\"color: #00af00; text-decoration-color: #00af00\">128</span>)              │        <span style=\"color: #00af00; text-decoration-color: #00af00\">32,896</span> │\n",
       "├─────────────────────────────────┼────────────────────────┼───────────────┤\n",
       "│ dense (<span style=\"color: #0087ff; text-decoration-color: #0087ff\">Dense</span>)                   │ (<span style=\"color: #00af00; text-decoration-color: #00af00\">32</span>, <span style=\"color: #00af00; text-decoration-color: #00af00\">1</span>)                │           <span style=\"color: #00af00; text-decoration-color: #00af00\">129</span> │\n",
       "└─────────────────────────────────┴────────────────────────┴───────────────┘\n",
       "</pre>\n"
      ],
      "text/plain": [
       "┏━━━━━━━━━━━━━━━━━━━━━━━━━━━━━━━━━┳━━━━━━━━━━━━━━━━━━━━━━━━┳━━━━━━━━━━━━━━━┓\n",
       "┃\u001b[1m \u001b[0m\u001b[1mLayer (type)                   \u001b[0m\u001b[1m \u001b[0m┃\u001b[1m \u001b[0m\u001b[1mOutput Shape          \u001b[0m\u001b[1m \u001b[0m┃\u001b[1m \u001b[0m\u001b[1m      Param #\u001b[0m\u001b[1m \u001b[0m┃\n",
       "┡━━━━━━━━━━━━━━━━━━━━━━━━━━━━━━━━━╇━━━━━━━━━━━━━━━━━━━━━━━━╇━━━━━━━━━━━━━━━┩\n",
       "│ embedding (\u001b[38;5;33mEmbedding\u001b[0m)           │ (\u001b[38;5;34m32\u001b[0m, \u001b[38;5;34m500\u001b[0m, \u001b[38;5;34m128\u001b[0m)         │     \u001b[38;5;34m1,280,000\u001b[0m │\n",
       "├─────────────────────────────────┼────────────────────────┼───────────────┤\n",
       "│ simple_rnn (\u001b[38;5;33mSimpleRNN\u001b[0m)          │ (\u001b[38;5;34m32\u001b[0m, \u001b[38;5;34m128\u001b[0m)              │        \u001b[38;5;34m32,896\u001b[0m │\n",
       "├─────────────────────────────────┼────────────────────────┼───────────────┤\n",
       "│ dense (\u001b[38;5;33mDense\u001b[0m)                   │ (\u001b[38;5;34m32\u001b[0m, \u001b[38;5;34m1\u001b[0m)                │           \u001b[38;5;34m129\u001b[0m │\n",
       "└─────────────────────────────────┴────────────────────────┴───────────────┘\n"
      ]
     },
     "metadata": {},
     "output_type": "display_data"
    },
    {
     "data": {
      "text/html": [
       "<pre style=\"white-space:pre;overflow-x:auto;line-height:normal;font-family:Menlo,'DejaVu Sans Mono',consolas,'Courier New',monospace\"><span style=\"font-weight: bold\"> Total params: </span><span style=\"color: #00af00; text-decoration-color: #00af00\">1,313,027</span> (5.01 MB)\n",
       "</pre>\n"
      ],
      "text/plain": [
       "\u001b[1m Total params: \u001b[0m\u001b[38;5;34m1,313,027\u001b[0m (5.01 MB)\n"
      ]
     },
     "metadata": {},
     "output_type": "display_data"
    },
    {
     "data": {
      "text/html": [
       "<pre style=\"white-space:pre;overflow-x:auto;line-height:normal;font-family:Menlo,'DejaVu Sans Mono',consolas,'Courier New',monospace\"><span style=\"font-weight: bold\"> Trainable params: </span><span style=\"color: #00af00; text-decoration-color: #00af00\">1,313,025</span> (5.01 MB)\n",
       "</pre>\n"
      ],
      "text/plain": [
       "\u001b[1m Trainable params: \u001b[0m\u001b[38;5;34m1,313,025\u001b[0m (5.01 MB)\n"
      ]
     },
     "metadata": {},
     "output_type": "display_data"
    },
    {
     "data": {
      "text/html": [
       "<pre style=\"white-space:pre;overflow-x:auto;line-height:normal;font-family:Menlo,'DejaVu Sans Mono',consolas,'Courier New',monospace\"><span style=\"font-weight: bold\"> Non-trainable params: </span><span style=\"color: #00af00; text-decoration-color: #00af00\">0</span> (0.00 B)\n",
       "</pre>\n"
      ],
      "text/plain": [
       "\u001b[1m Non-trainable params: \u001b[0m\u001b[38;5;34m0\u001b[0m (0.00 B)\n"
      ]
     },
     "metadata": {},
     "output_type": "display_data"
    },
    {
     "data": {
      "text/html": [
       "<pre style=\"white-space:pre;overflow-x:auto;line-height:normal;font-family:Menlo,'DejaVu Sans Mono',consolas,'Courier New',monospace\"><span style=\"font-weight: bold\"> Optimizer params: </span><span style=\"color: #00af00; text-decoration-color: #00af00\">2</span> (12.00 B)\n",
       "</pre>\n"
      ],
      "text/plain": [
       "\u001b[1m Optimizer params: \u001b[0m\u001b[38;5;34m2\u001b[0m (12.00 B)\n"
      ]
     },
     "metadata": {},
     "output_type": "display_data"
    }
   ],
   "source": [
    "# Load the pre-trained model with ReLU activation\n",
    "model = load_model('simple_rnn_imdb.h5')\n",
    "model.summary()"
   ]
  },
  {
   "cell_type": "code",
   "execution_count": 4,
   "metadata": {},
   "outputs": [
    {
     "data": {
      "text/plain": [
       "[array([[ 7.5932950e-01, -2.4675952e-01, -3.0579162e-01, ...,\n",
       "          1.6311336e-01, -1.5470114e-01, -1.8371090e-01],\n",
       "        [ 3.3457052e-02,  2.9864316e-03, -9.6785806e-02, ...,\n",
       "         -1.2907495e-02,  4.2626783e-02, -5.6333259e-02],\n",
       "        [ 3.5797607e-03, -1.3958280e-01, -8.9748269e-03, ...,\n",
       "          1.3803121e-01, -1.3339440e-02, -2.9331405e-02],\n",
       "        ...,\n",
       "        [ 2.0121193e-02,  4.1654665e-02, -2.4921674e-02, ...,\n",
       "         -4.2129286e-02,  1.8532891e-02, -2.2842120e-02],\n",
       "        [ 4.7721852e-02, -3.3261430e-02,  4.7319088e-02, ...,\n",
       "          2.5857277e-02, -4.5485161e-03,  3.1510455e-04],\n",
       "        [-2.7784942e-02, -4.2011406e-02, -3.3000581e-02, ...,\n",
       "          2.5629604e-02, -5.0043594e-02, -5.4213987e-03]],\n",
       "       shape=(10000, 128), dtype=float32),\n",
       " array([[ 0.11101254,  0.04977611,  0.13239783, ..., -0.09090089,\n",
       "         -0.06475483,  0.07085822],\n",
       "        [ 0.05826038,  0.01055762, -0.0708407 , ...,  0.080801  ,\n",
       "         -0.01881883,  0.05181523],\n",
       "        [ 0.15702797,  0.01209687, -0.08703776, ...,  0.0217916 ,\n",
       "          0.10322839, -0.02880676],\n",
       "        ...,\n",
       "        [-0.15566255, -0.06212271,  0.10157615, ...,  0.10172056,\n",
       "          0.03932736, -0.08430815],\n",
       "        [-0.01437391,  0.0539497 , -0.05749138, ..., -0.15659617,\n",
       "         -0.03933315, -0.03434908],\n",
       "        [ 0.11040549,  0.1785669 , -0.09441839, ..., -0.16785887,\n",
       "         -0.00479144,  0.01941328]], shape=(128, 128), dtype=float32),\n",
       " array([[ 2.26720452e-01, -5.47010899e-02,  2.72012632e-02, ...,\n",
       "         -1.29694939e-01,  4.42114137e-02,  1.61607340e-02],\n",
       "        [ 8.63068178e-02, -6.85846061e-03,  9.21147782e-03, ...,\n",
       "         -1.26582041e-01,  1.38140246e-01,  1.53424684e-02],\n",
       "        [-6.46150578e-03,  4.44653556e-02, -1.47351986e-02, ...,\n",
       "         -1.03806235e-01,  4.14198823e-02, -2.11782400e-02],\n",
       "        ...,\n",
       "        [-2.02276316e-02,  5.30235022e-02, -9.82217267e-02, ...,\n",
       "         -2.13040765e-02, -1.99436181e-04,  1.01813301e-01],\n",
       "        [-1.37667447e-01,  1.16188325e-01,  7.90003166e-02, ...,\n",
       "         -8.86769965e-03,  5.88705651e-02,  1.81277171e-01],\n",
       "        [-1.52508110e-01, -7.00509623e-02,  9.63643864e-02, ...,\n",
       "          8.01232010e-02,  2.52548814e-01, -1.38820305e-01]],\n",
       "       shape=(128, 128), dtype=float32),\n",
       " array([-0.01956461, -0.02306647,  0.00449085, -0.02743305,  0.0183279 ,\n",
       "         0.00301403, -0.00483631,  0.03882612,  0.01537605, -0.01477002,\n",
       "         0.02158874,  0.02996   ,  0.04894038,  0.00227422, -0.02696337,\n",
       "         0.01197198, -0.03353877,  0.01727684,  0.02452563, -0.01897133,\n",
       "        -0.01425618, -0.01038626, -0.00279917,  0.04582008,  0.04851645,\n",
       "         0.01422356,  0.0416025 ,  0.02402555, -0.02159244, -0.01676889,\n",
       "         0.01030438, -0.04575061, -0.01682848, -0.01032809, -0.02843815,\n",
       "        -0.00531003, -0.04318169, -0.0236506 , -0.04146125, -0.02116665,\n",
       "        -0.05519487,  0.03527324,  0.04520062,  0.01480508,  0.01805511,\n",
       "        -0.02511883, -0.0071268 ,  0.03173668,  0.00552749, -0.04603914,\n",
       "         0.03854517,  0.04004997,  0.00935487,  0.02472516, -0.0010287 ,\n",
       "         0.00256215, -0.00908926, -0.00670405, -0.00342966, -0.00927399,\n",
       "        -0.03655069, -0.00111046, -0.02004467,  0.0304912 , -0.00076144,\n",
       "        -0.03569192,  0.03431143, -0.04546132, -0.03749868, -0.03387106,\n",
       "        -0.0118802 , -0.037131  ,  0.00836029, -0.03150972, -0.03829801,\n",
       "        -0.04049047, -0.0101936 , -0.00661672, -0.04991359, -0.00899256,\n",
       "         0.035545  , -0.00365065, -0.02966415,  0.02818569, -0.01026801,\n",
       "         0.03570559, -0.02037506, -0.04195694,  0.00361211, -0.0243134 ,\n",
       "         0.02917648, -0.02571883, -0.01732168,  0.0280332 ,  0.01232697,\n",
       "        -0.0401725 , -0.01476336, -0.01214293,  0.03271179, -0.01110562,\n",
       "         0.01916229,  0.0621714 , -0.01943577, -0.0598349 ,  0.00571866,\n",
       "         0.00497301,  0.00930685, -0.03010116, -0.01918012, -0.02356112,\n",
       "         0.02516046, -0.01664751,  0.00072719,  0.01545483,  0.03833317,\n",
       "         0.00212252,  0.0150397 , -0.0209692 ,  0.00411064, -0.00110273,\n",
       "        -0.01179706, -0.03783885,  0.02915717, -0.03842841,  0.00392639,\n",
       "         0.01752463, -0.03982926, -0.02069654], dtype=float32),\n",
       " array([[-0.20315737],\n",
       "        [-0.04188849],\n",
       "        [-0.21543619],\n",
       "        [ 0.14913213],\n",
       "        [-0.08586017],\n",
       "        [-0.09139221],\n",
       "        [-0.24303168],\n",
       "        [-0.39478517],\n",
       "        [ 0.1922632 ],\n",
       "        [-0.11599378],\n",
       "        [ 0.23033391],\n",
       "        [-0.29728428],\n",
       "        [ 0.06054371],\n",
       "        [-0.23349655],\n",
       "        [ 0.15943213],\n",
       "        [ 0.14433828],\n",
       "        [-0.19117564],\n",
       "        [-0.07720539],\n",
       "        [-0.02603909],\n",
       "        [ 0.27982718],\n",
       "        [-0.19253772],\n",
       "        [-0.18152504],\n",
       "        [ 0.08675487],\n",
       "        [-0.15580143],\n",
       "        [ 0.06714875],\n",
       "        [ 0.16671757],\n",
       "        [-0.1844156 ],\n",
       "        [ 0.21761942],\n",
       "        [-0.15736091],\n",
       "        [-0.14434464],\n",
       "        [-0.34418464],\n",
       "        [-0.00770956],\n",
       "        [-0.2189041 ],\n",
       "        [ 0.01594356],\n",
       "        [-0.2620918 ],\n",
       "        [ 0.1879221 ],\n",
       "        [ 0.14614953],\n",
       "        [-0.00564957],\n",
       "        [-0.17197002],\n",
       "        [-0.03407195],\n",
       "        [-0.03375451],\n",
       "        [-0.12498988],\n",
       "        [ 0.18115214],\n",
       "        [ 0.2738651 ],\n",
       "        [ 0.25117198],\n",
       "        [-0.09677523],\n",
       "        [ 0.2307519 ],\n",
       "        [ 0.09977879],\n",
       "        [ 0.20343257],\n",
       "        [-0.08426003],\n",
       "        [ 0.04944358],\n",
       "        [-0.1340759 ],\n",
       "        [ 0.09576942],\n",
       "        [ 0.18696772],\n",
       "        [ 0.01677999],\n",
       "        [ 0.12602706],\n",
       "        [-0.21300022],\n",
       "        [-0.1811315 ],\n",
       "        [-0.05767672],\n",
       "        [-0.24540694],\n",
       "        [ 0.14125626],\n",
       "        [-0.10746925],\n",
       "        [-0.12416417],\n",
       "        [ 0.13713549],\n",
       "        [-0.14477816],\n",
       "        [-0.02760153],\n",
       "        [-0.02250984],\n",
       "        [-0.05073828],\n",
       "        [ 0.04195055],\n",
       "        [-0.06639263],\n",
       "        [-0.2434342 ],\n",
       "        [-0.02196915],\n",
       "        [ 0.13456656],\n",
       "        [-0.23343208],\n",
       "        [-0.18281406],\n",
       "        [-0.1450884 ],\n",
       "        [ 0.10260762],\n",
       "        [ 0.04930462],\n",
       "        [ 0.0631776 ],\n",
       "        [ 0.23843254],\n",
       "        [-0.2639127 ],\n",
       "        [-0.05775569],\n",
       "        [-0.106225  ],\n",
       "        [-0.23244485],\n",
       "        [-0.04926249],\n",
       "        [ 0.02469335],\n",
       "        [-0.03623726],\n",
       "        [ 0.03421059],\n",
       "        [-0.12025248],\n",
       "        [ 0.14374904],\n",
       "        [ 0.21680579],\n",
       "        [-0.18782143],\n",
       "        [-0.12859584],\n",
       "        [ 0.21183331],\n",
       "        [ 0.07642554],\n",
       "        [ 0.05065553],\n",
       "        [ 0.13210042],\n",
       "        [-0.09613729],\n",
       "        [ 0.02791682],\n",
       "        [ 0.25023264],\n",
       "        [ 0.15998253],\n",
       "        [-0.07908102],\n",
       "        [-0.10171301],\n",
       "        [-0.13985711],\n",
       "        [-0.1679861 ],\n",
       "        [-0.20226328],\n",
       "        [-0.04767017],\n",
       "        [-0.08806057],\n",
       "        [-0.10572176],\n",
       "        [-0.18132968],\n",
       "        [ 0.02837685],\n",
       "        [-0.37691224],\n",
       "        [ 0.1889578 ],\n",
       "        [-0.22789481],\n",
       "        [ 0.10687715],\n",
       "        [-0.05507492],\n",
       "        [-0.30282375],\n",
       "        [ 0.07551309],\n",
       "        [-0.1701379 ],\n",
       "        [-0.02058554],\n",
       "        [ 0.27968335],\n",
       "        [-0.12227103],\n",
       "        [-0.15157329],\n",
       "        [ 0.05444452],\n",
       "        [-0.16636755],\n",
       "        [ 0.02897238],\n",
       "        [-0.21106586],\n",
       "        [-0.05945233]], dtype=float32),\n",
       " array([-0.2126562], dtype=float32)]"
      ]
     },
     "execution_count": 4,
     "metadata": {},
     "output_type": "execute_result"
    }
   ],
   "source": [
    "model.get_weights()"
   ]
  },
  {
   "cell_type": "code",
   "execution_count": 5,
   "metadata": {},
   "outputs": [],
   "source": [
    "# Step 2: Helper Functions\n",
    "# Function to decode reviews\n",
    "def decode_review(encoded_review):\n",
    "    return ' '.join([reverse_word_index.get(i - 3, '?') for i in encoded_review])\n",
    "\n",
    "# Function to preprocess user input\n",
    "def preprocess_text(text):\n",
    "    words = text.lower().split()\n",
    "    encoded_review = [word_index.get(word, 2) + 3 for word in words]\n",
    "    padded_review = sequence.pad_sequences([encoded_review], maxlen=500)\n",
    "    return padded_review"
   ]
  },
  {
   "cell_type": "code",
   "execution_count": 6,
   "metadata": {},
   "outputs": [],
   "source": [
    "### Prediction  function\n",
    "\n",
    "def predict_sentiment(review):\n",
    "    preprocessed_input=preprocess_text(review)\n",
    "\n",
    "    prediction=model.predict(preprocessed_input)\n",
    "\n",
    "    sentiment = 'Positive' if prediction[0][0] > 0.5 else 'Negative'\n",
    "    \n",
    "    return sentiment, prediction[0][0]\n",
    "\n"
   ]
  },
  {
   "cell_type": "code",
   "execution_count": 11,
   "metadata": {},
   "outputs": [
    {
     "name": "stdout",
     "output_type": "stream",
     "text": [
      "\u001b[1m1/1\u001b[0m \u001b[32m━━━━━━━━━━━━━━━━━━━━\u001b[0m\u001b[37m\u001b[0m \u001b[1m0s\u001b[0m 28ms/step\n",
      "Review: Must watch! This movie was fantastic! The acting was great and the plot was thrilling.\n",
      "Sentiment: Positive\n",
      "Prediction Score: 0.6871964931488037\n"
     ]
    }
   ],
   "source": [
    "# Step 4: User Input and Prediction\n",
    "# Example review for prediction\n",
    "example_review = \"Must watch! This movie was fantastic! The acting was great and the plot was thrilling.\"\n",
    "#example_review = \"This movie was boring! Total waste of time.\"\n",
    "#example_review = \"This movie was boring! But the cinematography was beautiful.\"\n",
    "\n",
    "sentiment,score=predict_sentiment(example_review)\n",
    "\n",
    "print(f'Review: {example_review}')\n",
    "print(f'Sentiment: {sentiment}')\n",
    "print(f'Prediction Score: {score}')"
   ]
  },
  {
   "cell_type": "code",
   "execution_count": null,
   "metadata": {},
   "outputs": [],
   "source": []
  },
  {
   "cell_type": "code",
   "execution_count": null,
   "metadata": {},
   "outputs": [],
   "source": []
  },
  {
   "cell_type": "code",
   "execution_count": null,
   "metadata": {},
   "outputs": [],
   "source": []
  },
  {
   "cell_type": "code",
   "execution_count": null,
   "metadata": {},
   "outputs": [],
   "source": []
  }
 ],
 "metadata": {
  "kernelspec": {
   "display_name": "venv",
   "language": "python",
   "name": "python3"
  },
  "language_info": {
   "codemirror_mode": {
    "name": "ipython",
    "version": 3
   },
   "file_extension": ".py",
   "mimetype": "text/x-python",
   "name": "python",
   "nbconvert_exporter": "python",
   "pygments_lexer": "ipython3",
   "version": "3.12.6"
  }
 },
 "nbformat": 4,
 "nbformat_minor": 2
}
